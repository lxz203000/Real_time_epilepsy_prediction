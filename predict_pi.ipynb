{
 "cells": [
  {
   "cell_type": "code",
   "execution_count": 100,
   "metadata": {},
   "outputs": [],
   "source": [
    "import tensorflow as tf\n",
    "import numpy as np\n",
    "from sklearn.metrics import classification_report\n",
    "import winsound\n",
    "import time\n",
    "from scipy.signal import butter, filtfilt\n",
    "duration = 500\n",
    "freq = 440\n",
    "#pass_band=[0.5*2/173,40*2/173]\n",
    "#b,a_filt=butter(1,pass_band,'bandpass')"
   ]
  },
  {
   "cell_type": "code",
   "execution_count": 101,
   "metadata": {
    "scrolled": true
   },
   "outputs": [],
   "source": [
    "module_path='C:/Users/86135/Desktop/module22'\n",
    "loaded=tf.keras.models.load_model(module_path)"
   ]
  },
  {
   "cell_type": "code",
   "execution_count": 102,
   "metadata": {},
   "outputs": [],
   "source": [
    "y=np.loadtxt(\"C:/Users/86135/Desktop/txt1/y.txt\")\n",
    "pos=0\n",
    "for i in range(27500,27999):\n",
    "    if y[i]==1:\n",
    "        pos+=1"
   ]
  },
  {
   "cell_type": "code",
   "execution_count": 113,
   "metadata": {},
   "outputs": [],
   "source": [
    "timeline=[]\n",
    "pred_list=[]\n",
    "for i in range(40291,40340):\n",
    "    txtpath=\"C:/Users/86135/Desktop/txt3/\"+str(i)+\".txt\"\n",
    "    trt=np.loadtxt(txtpath)\n",
    "    #trt=filtfilt(b,a_filt,trt)\n",
    "    trt=trt.reshape(-1,2048,1)\n",
    "    pred=loaded.predict(trt)[0][0]\n",
    "    pred_list.append(pred)\n",
    "    try:\n",
    "        if pred>0.2 and pred_list[-2]>0.2:\n",
    "            timeline.append(i)\n",
    "    except:\n",
    "        continue"
   ]
  },
  {
   "cell_type": "code",
   "execution_count": 114,
   "metadata": {},
   "outputs": [],
   "source": [
    "for s in timeline:\n",
    "    if timeline.count(s) >1:\n",
    "        timeline.remove(s)"
   ]
  },
  {
   "cell_type": "code",
   "execution_count": 105,
   "metadata": {},
   "outputs": [
    {
     "name": "stdout",
     "output_type": "stream",
     "text": [
      "FP: 0.04247104247104247\n",
      "FN: 0.3706563706563707\n"
     ]
    }
   ],
   "source": [
    "TP=0\n",
    "FP=0\n",
    "for i in timeline:\n",
    "    if y[i]==1:\n",
    "        TP+=1\n",
    "    if y[i]==0:\n",
    "        FP+=1\n",
    "TP=TP/pos\n",
    "FP=FP/pos\n",
    "TN=1-FP\n",
    "FN=1-TP\n",
    "\n",
    "print(\"FP:\",FP)\n",
    "print(\"FN:\",FN)"
   ]
  }
 ],
 "metadata": {
  "kernelspec": {
   "display_name": "Python 3",
   "language": "python",
   "name": "python3"
  },
  "language_info": {
   "codemirror_mode": {
    "name": "ipython",
    "version": 3
   },
   "file_extension": ".py",
   "mimetype": "text/x-python",
   "name": "python",
   "nbconvert_exporter": "python",
   "pygments_lexer": "ipython3",
   "version": "3.7.1"
  }
 },
 "nbformat": 4,
 "nbformat_minor": 4
}
